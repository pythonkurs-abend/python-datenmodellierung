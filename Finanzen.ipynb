{
 "cells": [
  {
   "cell_type": "code",
   "execution_count": 46,
   "metadata": {},
   "outputs": [
    {
     "data": {
      "text/html": [
       "<div>\n",
       "<style scoped>\n",
       "    .dataframe tbody tr th:only-of-type {\n",
       "        vertical-align: middle;\n",
       "    }\n",
       "\n",
       "    .dataframe tbody tr th {\n",
       "        vertical-align: top;\n",
       "    }\n",
       "\n",
       "    .dataframe thead th {\n",
       "        text-align: right;\n",
       "    }\n",
       "</style>\n",
       "<table border=\"1\" class=\"dataframe\">\n",
       "  <thead>\n",
       "    <tr style=\"text-align: right;\">\n",
       "      <th></th>\n",
       "      <th>Datum</th>\n",
       "      <th>Typ</th>\n",
       "      <th>Von/Nach</th>\n",
       "      <th>Text</th>\n",
       "      <th>Wert</th>\n",
       "      <th>KontenArt</th>\n",
       "    </tr>\n",
       "  </thead>\n",
       "  <tbody>\n",
       "    <tr>\n",
       "      <th>0</th>\n",
       "      <td>2020-10-01</td>\n",
       "      <td>Einnahme</td>\n",
       "      <td>Konto</td>\n",
       "      <td>Gehalt</td>\n",
       "      <td>500.00</td>\n",
       "      <td>Konto</td>\n",
       "    </tr>\n",
       "    <tr>\n",
       "      <th>1</th>\n",
       "      <td>2020-10-01</td>\n",
       "      <td>Ausgabe</td>\n",
       "      <td>Konto</td>\n",
       "      <td>Miete</td>\n",
       "      <td>-300.00</td>\n",
       "      <td>Konto</td>\n",
       "    </tr>\n",
       "    <tr>\n",
       "      <th>2</th>\n",
       "      <td>2020-11-01</td>\n",
       "      <td>Einnahme</td>\n",
       "      <td>Konto</td>\n",
       "      <td>Gehalt</td>\n",
       "      <td>500.00</td>\n",
       "      <td>Konto</td>\n",
       "    </tr>\n",
       "    <tr>\n",
       "      <th>3</th>\n",
       "      <td>2020-11-20</td>\n",
       "      <td>Umbuchung</td>\n",
       "      <td>Konto</td>\n",
       "      <td>Auf Kasse</td>\n",
       "      <td>-50.00</td>\n",
       "      <td>Konto</td>\n",
       "    </tr>\n",
       "    <tr>\n",
       "      <th>4</th>\n",
       "      <td>2020-11-20</td>\n",
       "      <td>Umbuchung</td>\n",
       "      <td>Kasse</td>\n",
       "      <td>Von Konto</td>\n",
       "      <td>50.00</td>\n",
       "      <td>Kasse</td>\n",
       "    </tr>\n",
       "    <tr>\n",
       "      <th>5</th>\n",
       "      <td>2020-11-23</td>\n",
       "      <td>Ausgabe</td>\n",
       "      <td>Kasse</td>\n",
       "      <td>Glühwein</td>\n",
       "      <td>-5.00</td>\n",
       "      <td>Kasse</td>\n",
       "    </tr>\n",
       "    <tr>\n",
       "      <th>6</th>\n",
       "      <td>2020-11-23</td>\n",
       "      <td>Ausgabe</td>\n",
       "      <td>Kasse</td>\n",
       "      <td>Tochter Geschenk</td>\n",
       "      <td>-14.99</td>\n",
       "      <td>Kasse</td>\n",
       "    </tr>\n",
       "  </tbody>\n",
       "</table>\n",
       "</div>"
      ],
      "text/plain": [
       "        Datum        Typ Von/Nach              Text    Wert KontenArt\n",
       "0  2020-10-01   Einnahme    Konto            Gehalt  500.00     Konto\n",
       "1  2020-10-01    Ausgabe    Konto             Miete -300.00     Konto\n",
       "2  2020-11-01   Einnahme    Konto            Gehalt  500.00     Konto\n",
       "3  2020-11-20  Umbuchung    Konto         Auf Kasse  -50.00     Konto\n",
       "4  2020-11-20  Umbuchung    Kasse         Von Konto   50.00     Kasse\n",
       "5  2020-11-23    Ausgabe    Kasse          Glühwein   -5.00     Kasse\n",
       "6  2020-11-23    Ausgabe    Kasse  Tochter Geschenk  -14.99     Kasse"
      ]
     },
     "execution_count": 46,
     "metadata": {},
     "output_type": "execute_result"
    }
   ],
   "source": [
    "import pandas as pd\n",
    "\n",
    "accounts = ['Konto', 'Kasse']\n",
    "\n",
    "df = pd.read_csv('finanzen.csv', sep=';')\n",
    "\n",
    "df"
   ]
  },
  {
   "cell_type": "code",
   "execution_count": 32,
   "metadata": {},
   "outputs": [
    {
     "name": "stdout",
     "output_type": "stream",
     "text": [
      "Kontostände\n",
      "Konto : 650.0\n",
      "Kasse : 30.01\n"
     ]
    }
   ],
   "source": [
    "print('Kontostände')\n",
    "\n",
    "for account in accounts:\n",
    "    print(account, ':', df[df.KontenArt == account][['Wert']].sum().values[0].round(2))"
   ]
  },
  {
   "cell_type": "code",
   "execution_count": 33,
   "metadata": {},
   "outputs": [
    {
     "data": {
      "text/plain": [
       "650.0"
      ]
     },
     "execution_count": 33,
     "metadata": {},
     "output_type": "execute_result"
    }
   ],
   "source": [
    "kontoDf = df[df.KontenArt == 'Konto']\n",
    "kontoDf[['Wert']].sum().values[0]"
   ]
  },
  {
   "cell_type": "code",
   "execution_count": 34,
   "metadata": {},
   "outputs": [
    {
     "data": {
      "text/plain": [
       "<AxesSubplot:xlabel='KontenArt'>"
      ]
     },
     "execution_count": 34,
     "metadata": {},
     "output_type": "execute_result"
    },
    {
     "data": {
      "image/png": "[encoded data removed]",
      "text/plain": [
       "<Figure size 432x288 with 1 Axes>"
      ]
     },
     "metadata": {
      "needs_background": "light"
     },
     "output_type": "display_data"
    }
   ],
   "source": [
    "df.groupby('KontenArt')['Wert'].sum().plot(kind = 'bar')"
   ]
  },
  {
   "cell_type": "code",
   "execution_count": 48,
   "metadata": {},
   "outputs": [
    {
     "name": "stdout",
     "output_type": "stream",
     "text": [
      "Aktueller Monat\n",
      "Einnahmen:  500.0\n",
      "Ausgabe:  19.990000000000002\n"
     ]
    }
   ],
   "source": [
    "print('Aktueller Monat')\n",
    "df['Datum'] = pd.to_datetime(df['Datum'], format=\"%Y-%m-%d\")\n",
    "\n",
    "mask = (df['Datum'] >= '2020-11-1') & (df['Datum'] <= '2020-11-30')\n",
    "dfMonth = df.loc[mask]\n",
    "\n",
    "print('Einnahmen: ', dfMonth[dfMonth.Typ == 'Einnahme'][['Wert']].sum().values[0])\n",
    "print('Ausgabe: ', dfMonth[dfMonth.Typ == 'Ausgabe'][['Wert']].sum().values[0] * -1)"
   ]
  },
  {
   "cell_type": "code",
   "execution_count": 50,
   "metadata": {},
   "outputs": [
    {
     "name": "stdout",
     "output_type": "stream",
     "text": [
      "Konto neuste Eingänge\n",
      "       Datum        Typ Von/Nach       Text   Wert KontenArt\n",
      "0 2020-10-01   Einnahme    Konto     Gehalt  500.0     Konto\n",
      "1 2020-10-01    Ausgabe    Konto      Miete -300.0     Konto\n",
      "2 2020-11-01   Einnahme    Konto     Gehalt  500.0     Konto\n",
      "3 2020-11-20  Umbuchung    Konto  Auf Kasse  -50.0     Konto\n",
      "----\n",
      "Kasse neuste Eingänge\n",
      "       Datum        Typ Von/Nach              Text   Wert KontenArt\n",
      "4 2020-11-20  Umbuchung    Kasse         Von Konto  50.00     Kasse\n",
      "5 2020-11-23    Ausgabe    Kasse          Glühwein  -5.00     Kasse\n",
      "6 2020-11-23    Ausgabe    Kasse  Tochter Geschenk -14.99     Kasse\n",
      "----\n"
     ]
    }
   ],
   "source": [
    "for account in accounts:\n",
    "    print(account, 'neuste Eingänge')\n",
    "    print(df[df.KontenArt == account].tail(5))\n",
    "    print('----')"
   ]
  },
  {
   "cell_type": "code",
   "execution_count": null,
   "metadata": {},
   "outputs": [],
   "source": [
    "input('Neue Ausgabe?')"
   ]
  },
  {
   "cell_type": "code",
   "execution_count": null,
   "metadata": {},
   "outputs": [],
   "source": []
  }
 ],
 "metadata": {
  "kernelspec": {
   "display_name": "Python 3",
   "language": "python",
   "name": "python3"
  },
  "language_info": {
   "codemirror_mode": {
    "name": "ipython",
    "version": 3
   },
   "file_extension": ".py",
   "mimetype": "text/x-python",
   "name": "python",
   "nbconvert_exporter": "python",
   "pygments_lexer": "ipython3",
   "version": "3.8.6"
  }
 },
 "nbformat": 4,
 "nbformat_minor": 4
}
